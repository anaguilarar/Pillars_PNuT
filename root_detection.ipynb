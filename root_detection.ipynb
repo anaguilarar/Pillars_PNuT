{
  "nbformat": 4,
  "nbformat_minor": 0,
  "metadata": {
    "colab": {
      "provenance": [],
      "gpuType": "T4",
      "authorship_tag": "ABX9TyN0+94ruIzsOZhYEo5kyapZ",
      "include_colab_link": true
    },
    "kernelspec": {
      "name": "python3",
      "display_name": "Python 3"
    },
    "language_info": {
      "name": "python"
    },
    "gpuClass": "standard",
    "accelerator": "GPU"
  },
  "cells": [
    {
      "cell_type": "markdown",
      "metadata": {
        "id": "view-in-github",
        "colab_type": "text"
      },
      "source": [
        "<a href=\"https://colab.research.google.com/github/anaguilarar/Pillars_PNuT/blob/main/root_detection.ipynb\" target=\"_parent\"><img src=\"https://colab.research.google.com/assets/colab-badge.svg\" alt=\"Open In Colab\"/></a>"
      ]
    },
    {
      "cell_type": "markdown",
      "source": [
        "To speed up the detection process, please use gpu, habilitate the option in:\n",
        "- Runtime -> change runtime type -> hardware accelerator -> gpu"
      ],
      "metadata": {
        "id": "gUUfMgX60-vg"
      }
    },
    {
      "cell_type": "code",
      "source": [
        "import os\n",
        "from google.colab import files\n",
        "from IPython.display import Image\n",
        "from PIL import Image as Img\n",
        "import numpy as np\n",
        "import io\n",
        "\n",
        "if not os.path.exists(\"/content/Pillars_PNuT\") and not os.getcwd().endswith(\"/content/Pillars_PNuT\"):\n",
        "    !git clone https://github.com/anaguilarar/Pillars_PNuT.git\n",
        "    print(\"Cloned\")\n",
        "\n",
        "else:\n",
        "    print(\"Pillars_PNuT directory already exists\")\n",
        "\n",
        "if not os.getcwd().endswith(\"/content/Pillars_PNuT\"):\n",
        "  os.chdir(\"/content/Pillars_PNuT\")\n",
        "\n",
        "### folder that will contain the imagery\n",
        "imagery_path = \"/content/\"\n"
      ],
      "metadata": {
        "colab": {
          "base_uri": "https://localhost:8080/"
        },
        "id": "iNk17_fG1U1J",
        "outputId": "4ae10cbd-19f5-46e1-87c2-3a0986229710"
      },
      "execution_count": null,
      "outputs": [
        {
          "output_type": "stream",
          "name": "stdout",
          "text": [
            "Pillars_PNuT directory already exists\n"
          ]
        }
      ]
    },
    {
      "cell_type": "markdown",
      "source": [
        "### Images uploading\n",
        "\n",
        "To use this algorithm is necessary first to upload the pillar images.\n",
        "- one option is to drag all your images to the left panel that appears after clicking on the folder symbol.\n",
        "- or you can use the following cell to upload your images from your local storage.\n"
      ],
      "metadata": {
        "id": "NK2gbft81hlP"
      }
    },
    {
      "cell_type": "code",
      "source": [
        "\n",
        "images = files.upload()\n",
        "\n",
        "for i in range(len(images)):\n",
        "  m = Image(list(images.keys())[i])\n",
        "  image = Img.open(io.BytesIO(m.data)).save(os.path.join(imagery_path,list(images.keys())[i]))\n"
      ],
      "metadata": {
        "id": "dq1sxi1AGA-k",
        "outputId": "7237c1c5-7f75-40c5-d333-8147548a668d",
        "colab": {
          "base_uri": "https://localhost:8080/",
          "height": 246
        }
      },
      "execution_count": null,
      "outputs": [
        {
          "output_type": "display_data",
          "data": {
            "text/plain": [
              "<IPython.core.display.HTML object>"
            ],
            "text/html": [
              "\n",
              "     <input type=\"file\" id=\"files-1cd4b70d-8aad-4fc8-a179-48cab819f659\" name=\"files[]\" multiple disabled\n",
              "        style=\"border:none\" />\n",
              "     <output id=\"result-1cd4b70d-8aad-4fc8-a179-48cab819f659\">\n",
              "      Upload widget is only available when the cell has been executed in the\n",
              "      current browser session. Please rerun this cell to enable.\n",
              "      </output>\n",
              "      <script>// Copyright 2017 Google LLC\n",
              "//\n",
              "// Licensed under the Apache License, Version 2.0 (the \"License\");\n",
              "// you may not use this file except in compliance with the License.\n",
              "// You may obtain a copy of the License at\n",
              "//\n",
              "//      http://www.apache.org/licenses/LICENSE-2.0\n",
              "//\n",
              "// Unless required by applicable law or agreed to in writing, software\n",
              "// distributed under the License is distributed on an \"AS IS\" BASIS,\n",
              "// WITHOUT WARRANTIES OR CONDITIONS OF ANY KIND, either express or implied.\n",
              "// See the License for the specific language governing permissions and\n",
              "// limitations under the License.\n",
              "\n",
              "/**\n",
              " * @fileoverview Helpers for google.colab Python module.\n",
              " */\n",
              "(function(scope) {\n",
              "function span(text, styleAttributes = {}) {\n",
              "  const element = document.createElement('span');\n",
              "  element.textContent = text;\n",
              "  for (const key of Object.keys(styleAttributes)) {\n",
              "    element.style[key] = styleAttributes[key];\n",
              "  }\n",
              "  return element;\n",
              "}\n",
              "\n",
              "// Max number of bytes which will be uploaded at a time.\n",
              "const MAX_PAYLOAD_SIZE = 100 * 1024;\n",
              "\n",
              "function _uploadFiles(inputId, outputId) {\n",
              "  const steps = uploadFilesStep(inputId, outputId);\n",
              "  const outputElement = document.getElementById(outputId);\n",
              "  // Cache steps on the outputElement to make it available for the next call\n",
              "  // to uploadFilesContinue from Python.\n",
              "  outputElement.steps = steps;\n",
              "\n",
              "  return _uploadFilesContinue(outputId);\n",
              "}\n",
              "\n",
              "// This is roughly an async generator (not supported in the browser yet),\n",
              "// where there are multiple asynchronous steps and the Python side is going\n",
              "// to poll for completion of each step.\n",
              "// This uses a Promise to block the python side on completion of each step,\n",
              "// then passes the result of the previous step as the input to the next step.\n",
              "function _uploadFilesContinue(outputId) {\n",
              "  const outputElement = document.getElementById(outputId);\n",
              "  const steps = outputElement.steps;\n",
              "\n",
              "  const next = steps.next(outputElement.lastPromiseValue);\n",
              "  return Promise.resolve(next.value.promise).then((value) => {\n",
              "    // Cache the last promise value to make it available to the next\n",
              "    // step of the generator.\n",
              "    outputElement.lastPromiseValue = value;\n",
              "    return next.value.response;\n",
              "  });\n",
              "}\n",
              "\n",
              "/**\n",
              " * Generator function which is called between each async step of the upload\n",
              " * process.\n",
              " * @param {string} inputId Element ID of the input file picker element.\n",
              " * @param {string} outputId Element ID of the output display.\n",
              " * @return {!Iterable<!Object>} Iterable of next steps.\n",
              " */\n",
              "function* uploadFilesStep(inputId, outputId) {\n",
              "  const inputElement = document.getElementById(inputId);\n",
              "  inputElement.disabled = false;\n",
              "\n",
              "  const outputElement = document.getElementById(outputId);\n",
              "  outputElement.innerHTML = '';\n",
              "\n",
              "  const pickedPromise = new Promise((resolve) => {\n",
              "    inputElement.addEventListener('change', (e) => {\n",
              "      resolve(e.target.files);\n",
              "    });\n",
              "  });\n",
              "\n",
              "  const cancel = document.createElement('button');\n",
              "  inputElement.parentElement.appendChild(cancel);\n",
              "  cancel.textContent = 'Cancel upload';\n",
              "  const cancelPromise = new Promise((resolve) => {\n",
              "    cancel.onclick = () => {\n",
              "      resolve(null);\n",
              "    };\n",
              "  });\n",
              "\n",
              "  // Wait for the user to pick the files.\n",
              "  const files = yield {\n",
              "    promise: Promise.race([pickedPromise, cancelPromise]),\n",
              "    response: {\n",
              "      action: 'starting',\n",
              "    }\n",
              "  };\n",
              "\n",
              "  cancel.remove();\n",
              "\n",
              "  // Disable the input element since further picks are not allowed.\n",
              "  inputElement.disabled = true;\n",
              "\n",
              "  if (!files) {\n",
              "    return {\n",
              "      response: {\n",
              "        action: 'complete',\n",
              "      }\n",
              "    };\n",
              "  }\n",
              "\n",
              "  for (const file of files) {\n",
              "    const li = document.createElement('li');\n",
              "    li.append(span(file.name, {fontWeight: 'bold'}));\n",
              "    li.append(span(\n",
              "        `(${file.type || 'n/a'}) - ${file.size} bytes, ` +\n",
              "        `last modified: ${\n",
              "            file.lastModifiedDate ? file.lastModifiedDate.toLocaleDateString() :\n",
              "                                    'n/a'} - `));\n",
              "    const percent = span('0% done');\n",
              "    li.appendChild(percent);\n",
              "\n",
              "    outputElement.appendChild(li);\n",
              "\n",
              "    const fileDataPromise = new Promise((resolve) => {\n",
              "      const reader = new FileReader();\n",
              "      reader.onload = (e) => {\n",
              "        resolve(e.target.result);\n",
              "      };\n",
              "      reader.readAsArrayBuffer(file);\n",
              "    });\n",
              "    // Wait for the data to be ready.\n",
              "    let fileData = yield {\n",
              "      promise: fileDataPromise,\n",
              "      response: {\n",
              "        action: 'continue',\n",
              "      }\n",
              "    };\n",
              "\n",
              "    // Use a chunked sending to avoid message size limits. See b/62115660.\n",
              "    let position = 0;\n",
              "    do {\n",
              "      const length = Math.min(fileData.byteLength - position, MAX_PAYLOAD_SIZE);\n",
              "      const chunk = new Uint8Array(fileData, position, length);\n",
              "      position += length;\n",
              "\n",
              "      const base64 = btoa(String.fromCharCode.apply(null, chunk));\n",
              "      yield {\n",
              "        response: {\n",
              "          action: 'append',\n",
              "          file: file.name,\n",
              "          data: base64,\n",
              "        },\n",
              "      };\n",
              "\n",
              "      let percentDone = fileData.byteLength === 0 ?\n",
              "          100 :\n",
              "          Math.round((position / fileData.byteLength) * 100);\n",
              "      percent.textContent = `${percentDone}% done`;\n",
              "\n",
              "    } while (position < fileData.byteLength);\n",
              "  }\n",
              "\n",
              "  // All done.\n",
              "  yield {\n",
              "    response: {\n",
              "      action: 'complete',\n",
              "    }\n",
              "  };\n",
              "}\n",
              "\n",
              "scope.google = scope.google || {};\n",
              "scope.google.colab = scope.google.colab || {};\n",
              "scope.google.colab._files = {\n",
              "  _uploadFiles,\n",
              "  _uploadFilesContinue,\n",
              "};\n",
              "})(self);\n",
              "</script> "
            ]
          },
          "metadata": {}
        },
        {
          "output_type": "stream",
          "name": "stdout",
          "text": [
            "Saving col-0-line36--p7_jpg.rf.86c17994647c7b9a2934c719c3296910.jpg to col-0-line36--p7_jpg.rf.86c17994647c7b9a2934c719c3296910.jpg\n",
            "Saving line9-p1_jpg.rf.d7b92679d597945478462dacf94d35c0.jpg to line9-p1_jpg.rf.d7b92679d597945478462dacf94d35c0.jpg\n",
            "Saving line34-p3_jpg.rf.c1aa749f30f85ddb281f4e7de2ee6543.jpg to line34-p3_jpg.rf.c1aa749f30f85ddb281f4e7de2ee6543.jpg\n",
            "Saving line35-p1_jpg.rf.4f74da55ea342344539026852c6a3c06.jpg to line35-p1_jpg.rf.4f74da55ea342344539026852c6a3c06.jpg\n",
            "Saving line37-p1_jpg.rf.96982f02676cbfe891d34c3c8bd6b857.jpg to line37-p1_jpg.rf.96982f02676cbfe891d34c3c8bd6b857.jpg\n",
            "Saving line42-p4_jpg.rf.75c37f3dfc8568483ebd6eb236eb6a9e.jpg to line42-p4_jpg.rf.75c37f3dfc8568483ebd6eb236eb6a9e.jpg\n"
          ]
        }
      ]
    },
    {
      "cell_type": "markdown",
      "source": [
        "### Model setting\n",
        "\n",
        "Once the imagery was uploaded, the next step is to set the root and pillar detector. In order to do that we will use a function named as RootandPillars, this function will first find the root using a segmentation model based on convolutional neural networks. Then the pillars are detected as circles using the [Hough transform](https://docs.opencv.org/4.x/da/d53/tutorial_py_houghcircles.html)."
      ],
      "metadata": {
        "id": "fEJF_xYGJniX"
      }
    },
    {
      "cell_type": "code",
      "source": [
        "from root_distance.rootdetector_fun import RootandPillars\n",
        "\n",
        "wp  = \"https://dlmodels-bucket.s3.ap-northeast-1.amazonaws.com/root_detection.zip\"\n",
        "rootdetector = RootandPillars(imagery_path, ## folder that contain images\n",
        "                              wp, ## CNN model's weight\n",
        "                              max_pillars_around_root = 16, ## number of pillars that are around the root\n",
        "                              imgsuffix = '.jpg', ## images extension\n",
        "                              scale_factor= 0.4023 ## pixel size\n",
        "                              )\n"
      ],
      "metadata": {
        "colab": {
          "base_uri": "https://localhost:8080/"
        },
        "id": "pIrRTuBd1p5w",
        "outputId": "90890aee-d614-44d2-df9f-ade651e72a32"
      },
      "execution_count": null,
      "outputs": [
        {
          "output_type": "stream",
          "name": "stdout",
          "text": [
            "checkpoint load models/root_detection/vgg16_root_detection\n",
            "1/1 [==============================] - 9s 9s/step\n",
            "17 pillars were found\n",
            "16 pillars were found\n",
            "16 pillars were found\n",
            "16 pillars were found\n",
            "16 pillars were found\n",
            "16 pillars were found\n",
            "17 pillars were found\n"
          ]
        }
      ]
    },
    {
      "cell_type": "markdown",
      "source": [
        "### Exporting images and tables"
      ],
      "metadata": {
        "id": "tVMck75ccvvh"
      }
    },
    {
      "cell_type": "code",
      "source": [
        "rootdetector.lines_table_as_csv(\"test.csv\")\n",
        "rootdetector.export_final_images('/content/overlaped_images/',\n",
        "                                 pillars_color=(153, 255, 102), ### to customize the colors please insert the RGB values, https://www.rapidtables.com/web/color/RGB_Color.html\n",
        "                                 root_lines_color =(0,0,0))\n"
      ],
      "metadata": {
        "id": "C5rqDrDi22nP"
      },
      "execution_count": null,
      "outputs": []
    }
  ]
}